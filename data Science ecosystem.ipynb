{
 "cells": [
  {
   "cell_type": "markdown",
   "id": "31dd7195",
   "metadata": {},
   "source": [
    "# Data Science Tools and Ecosystem"
   ]
  },
  {
   "cell_type": "code",
   "execution_count": 8,
   "id": "632cba7c",
   "metadata": {},
   "outputs": [],
   "source": [
    "##Create a markdown cell for an introduction"
   ]
  },
  {
   "cell_type": "markdown",
   "id": "91cd7b22",
   "metadata": {},
   "source": [
    "## In this notebook, Data Science Tools and Ecosystem are summarized."
   ]
  },
  {
   "cell_type": "markdown",
   "id": "44f551d6",
   "metadata": {},
   "source": [
    "# Objectives:"
   ]
  },
  {
   "cell_type": "markdown",
   "id": "2291d92c",
   "metadata": {},
   "source": [
    "### Some of the popular languages that Data Scientists use are:\n",
    "    Pyhton\n",
    "    R\n",
    "    SQL"
   ]
  },
  {
   "cell_type": "markdown",
   "id": "08f5367c",
   "metadata": {},
   "source": [
    "### Some of the commonly used libraries used by Data Scientists include:\n",
    "TensorFlow\n",
    "NumPy\n",
    "SciPy \n",
    "Pandas\n",
    "Matplotlib \n",
    "Keras\n",
    "SciKit-Learn\n",
    "PyTorch\n",
    "Scrapy"
   ]
  },
  {
   "cell_type": "code",
   "execution_count": null,
   "id": "edebffcf",
   "metadata": {},
   "outputs": [],
   "source": []
  },
  {
   "cell_type": "code",
   "execution_count": null,
   "id": "ecebdfac",
   "metadata": {},
   "outputs": [],
   "source": []
  },
  {
   "cell_type": "markdown",
   "id": "4c41fb25",
   "metadata": {},
   "source": [
    "### Data Science Tools:\n",
    "    Data Wrangling\tR\tdplyr\n",
    "    Data Wrangling\tPython\tPandas\n",
    "    Visualization\tR\tggplot2\n",
    "    Visualization\tPython\tMatplotlib"
   ]
  },
  {
   "cell_type": "markdown",
   "id": "56a55bae",
   "metadata": {},
   "source": [
    "## Create a markdown cell introducing arithmetic expression examples"
   ]
  },
  {
   "cell_type": "code",
   "execution_count": 2,
   "id": "14915afc",
   "metadata": {},
   "outputs": [
    {
     "name": "stdout",
     "output_type": "stream",
     "text": [
      "5\n",
      "1\n",
      "6\n",
      "1.0\n"
     ]
    }
   ],
   "source": [
    "print(2+3)\n",
    "print(3-2)\n",
    "print(3*2)\n",
    "print(3/3)"
   ]
  },
  {
   "cell_type": "markdown",
   "id": "c46bec18",
   "metadata": {},
   "source": [
    "## Create a code cell to multiply and add numbers"
   ]
  },
  {
   "cell_type": "code",
   "execution_count": 5,
   "id": "4d14d87a",
   "metadata": {},
   "outputs": [
    {
     "name": "stdout",
     "output_type": "stream",
     "text": [
      "700\n"
     ]
    }
   ],
   "source": [
    "x = 15\n",
    "y = 20\n",
    "z = x * y + 400\n",
    "print(z)"
   ]
  },
  {
   "cell_type": "markdown",
   "id": "4b1b5195",
   "metadata": {},
   "source": [
    "## Create a code cell to convert minutes to hours"
   ]
  },
  {
   "cell_type": "code",
   "execution_count": 7,
   "id": "2618eea8",
   "metadata": {},
   "outputs": [
    {
     "name": "stdout",
     "output_type": "stream",
     "text": [
      "Enter a number in minutes120\n",
      "2.0\n"
     ]
    }
   ],
   "source": [
    "a = int(input('Enter a number in minutes'))\n",
    "hours = a/60\n",
    "print(hours)"
   ]
  },
  {
   "cell_type": "markdown",
   "id": "7537cc52",
   "metadata": {},
   "source": [
    "Author Name:\n",
    "   "
   ]
  },
  {
   "cell_type": "markdown",
   "id": "87063dbd",
   "metadata": {},
   "source": [
    "# Sanoj Kumar"
   ]
  },
  {
   "cell_type": "code",
   "execution_count": null,
   "id": "ab797e1b",
   "metadata": {},
   "outputs": [],
   "source": []
  }
 ],
 "metadata": {
  "kernelspec": {
   "display_name": "Python 3 (ipykernel)",
   "language": "python",
   "name": "python3"
  },
  "language_info": {
   "codemirror_mode": {
    "name": "ipython",
    "version": 3
   },
   "file_extension": ".py",
   "mimetype": "text/x-python",
   "name": "python",
   "nbconvert_exporter": "python",
   "pygments_lexer": "ipython3",
   "version": "3.10.9"
  }
 },
 "nbformat": 4,
 "nbformat_minor": 5
}
